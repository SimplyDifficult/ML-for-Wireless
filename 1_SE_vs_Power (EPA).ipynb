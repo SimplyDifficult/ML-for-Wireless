{
  "nbformat": 4,
  "nbformat_minor": 0,
  "metadata": {
    "colab": {
      "name": "1. SE vs Power, EPA.ipynb",
      "provenance": [],
      "collapsed_sections": [],
      "include_colab_link": true
    },
    "kernelspec": {
      "name": "python3",
      "display_name": "Python 3"
    },
    "language_info": {
      "name": "python"
    }
  },
  "cells": [
    {
      "cell_type": "markdown",
      "metadata": {
        "id": "view-in-github",
        "colab_type": "text"
      },
      "source": [
        "<a href=\"https://colab.research.google.com/github/SimplyDifficult/ML-for-Wireless/blob/main/1_SE_vs_Power%20(EPA).ipynb\" target=\"_parent\"><img src=\"https://colab.research.google.com/assets/colab-badge.svg\" alt=\"Open In Colab\"/></a>"
      ]
    },
    {
      "cell_type": "markdown",
      "metadata": {
        "id": "H-6Fn5QeGNDU"
      },
      "source": [
        "# **Bayesian Optimization (BO)**"
      ]
    },
    {
      "cell_type": "code",
      "metadata": {
        "id": "3Km7r4WWHIVP"
      },
      "source": [
        "#### We are using octave to use the code of matlab.\n",
        "#### Its main purpose is to generate the samples for the BO loop\n",
        "\n",
        "!apt install octave"
      ],
      "execution_count": null,
      "outputs": []
    },
    {
      "cell_type": "code",
      "metadata": {
        "id": "4v9V4A0OHKOA"
      },
      "source": [
        "#### These are the matlab/octave files which will be used for generating the samples\n",
        "\n",
        "!wget https://www.dropbox.com/s/seo8s2j969cbewp/function_SE.m\n",
        "!wget https://www.dropbox.com/s/llve9s3hfamwyni/function_uncorrelated_rayleigh_fading_channel_model.m\n",
        "!wget https://www.dropbox.com/s/k3thopidesa905h/main.m"
      ],
      "execution_count": null,
      "outputs": []
    },
    {
      "cell_type": "code",
      "metadata": {
        "id": "lMyOz5szBvP4"
      },
      "source": [
        "#### Importing necessary packages\n",
        "\n",
        "from numpy import arange\n",
        "from numpy import vstack\n",
        "from numpy import argmax\n",
        "from numpy import asarray\n",
        "from numpy.random import normal\n",
        "#from numpy.random import random\n",
        "from scipy.stats import norm\n",
        "from sklearn.gaussian_process import GaussianProcessRegressor\n",
        "from warnings import catch_warnings\n",
        "from warnings import simplefilter\n",
        "from matplotlib import pyplot\n",
        "from scipy.optimize import minimize\n",
        "import numpy as np\n",
        "from scipy.io import loadmat, savemat\n",
        "import random"
      ],
      "execution_count": null,
      "outputs": []
    },
    {
      "cell_type": "code",
      "metadata": {
        "id": "kvvm1LnPB7Bz"
      },
      "source": [
        "#### Objective/Performace function(We are using Spectral Efficacy here)\n",
        "#### We have four cells and 100 users in each cell.\n",
        "#### I am collecting samples 16 times, where in each time I collect samples of 5 users in each cell.\n",
        "#### Its like how the paper had suggested to do.\n",
        "\n",
        "def objective(transmit_power):\n",
        "  #We have transmit power in dB however octave code accepts it in mW. \n",
        "  tr_in_mW = pow(10,(transmit_power*1.0/10))\n",
        "  savemat(\"transmit.mat\", {\"transmit\":(tr_in_mW*1.0)})\n",
        "  #Here we run the octave code\n",
        "  !octave -W main.m\n",
        "  #And save the result in SE matrix\n",
        "  SE = loadmat('SE.mat')\n",
        "  storer = 0\n",
        "  for i in range(16):\n",
        "    randomlist1 = random.sample(range(0, 10), 5)\n",
        "    randomlist2 = random.sample(range(0, 10), 5)\n",
        "    randomlist3 = random.sample(range(0, 10), 5)\n",
        "    randomlist4 = random.sample(range(0, 10), 5)\n",
        "    SE_matrix = SE[\"SE\"]\n",
        "    r1 = SE_matrix[randomlist1,0]\n",
        "    r2 = SE_matrix[randomlist2,1]\n",
        "    r3 = SE_matrix[randomlist3,2]\n",
        "    r4 = SE_matrix[randomlist4,3]\n",
        "    storer = storer + np.sum(r1) + np.sum(r2) + np.sum(r3) + np.sum(r4)\n",
        "  return (storer/16.0)"
      ],
      "execution_count": null,
      "outputs": []
    },
    {
      "cell_type": "code",
      "metadata": {
        "id": "X4yRltQOC4fb"
      },
      "source": [
        "#### Surrogate or approximation for the objective function\n",
        "\n",
        "def surrogate(model, X):\n",
        "\t#catch any warning generated when making a prediction\n",
        "\twith catch_warnings():\n",
        "\t\t#ignore generated warnings\n",
        "\t\tsimplefilter(\"ignore\")\n",
        "\t\treturn model.predict(X, return_std=True)"
      ],
      "execution_count": null,
      "outputs": []
    },
    {
      "cell_type": "code",
      "metadata": {
        "id": "jUgXgSffQdtc"
      },
      "source": [
        "#### Probability of Improvement Acquisition Function(PI)\n",
        "\n",
        "def PIacquisition(X, Xsamples, model):\n",
        "\t#calculate the best surrogate score found so far\n",
        "\tyhat, _ = surrogate(model, X)\n",
        "\tbest = max(yhat)\n",
        "\t#calculate mean and stdev via surrogate function\n",
        "\tmu, std = surrogate(model, Xsamples)\n",
        "\tmu = mu[:, 0]\n",
        "\t#calculate the probability of improvement\n",
        "\tprobs = norm.cdf((mu - best) / (std+1E-30))\n",
        "\treturn probs"
      ],
      "execution_count": null,
      "outputs": []
    },
    {
      "cell_type": "code",
      "metadata": {
        "id": "LK1ZqrL3C-bC"
      },
      "source": [
        "#### Expected Improvement Acquisition Function(EI)\n",
        "\n",
        "def EIacquisition(X, Xsamples, model, y):\n",
        "  yhat, _ = surrogate(model, X)\n",
        "  best = max(yhat)\n",
        "  mu, std = surrogate(model, Xsamples)\n",
        "  mu = mu[:, 0]\n",
        "  sigma = 0\n",
        "  probs = (mu - best - sigma) * norm.cdf((mu - best - sigma)/(std+1e-10)) + std * norm.pdf((mu - best - sigma)/(std+1e-10))\n",
        "  return probs"
      ],
      "execution_count": null,
      "outputs": []
    },
    {
      "cell_type": "code",
      "metadata": {
        "id": "6FBCGDAUVsf0"
      },
      "source": [
        "#### Knowledge Gradient Acquisition Function(KG)\n",
        "\n",
        "def KGacquisition(X, Xsamples, model, y):\n",
        "\n",
        "  #Find the best achieved performace\n",
        "  u_n, _ = surrogate(model, Xsamples)\n",
        "  u_star_n = max(u_n)\n",
        " \n",
        "  #Maxima KG and its optimal X\n",
        "  KG_max = -9999999999999999\n",
        "  KG_x = -999999999999999\n",
        "\n",
        "  for i in Xsamples:\n",
        "\n",
        "    #Take one sample point \n",
        "    sample_point = i\n",
        "\n",
        "    #collect its mean and variance\n",
        "    temp1 = surrogate(model, np.array([i]))\n",
        "    mu_of_test_point = temp1[0][0][0]\n",
        "    std_of_test_point =  temp1[1][0]\n",
        "\n",
        "    #Store the samples of KG in this\n",
        "    temp_KG = 0\n",
        "\n",
        "    #Take 50 samples of its gaussian posterior\n",
        "    for j in range(50):\n",
        "\n",
        "      #New observation collected\n",
        "      y_n_plus_1 = mu_of_test_point + (std_of_test_point) * normal(loc=0, scale=1)\n",
        "\n",
        "      #New model calculated\n",
        "      model.fit(vstack((X, [i])), vstack((y, [[y_n_plus_1]])))\n",
        "\n",
        "      #The next best performance achieved\n",
        "      u_n_plus_1, _ = surrogate(model, Xsamples)\n",
        "      u_star_n_plus_1 = max(u_n_plus_1)\n",
        "     \n",
        "      #Store this KG\n",
        "      temp_KG = temp_KG + u_star_n_plus_1 - u_star_n\n",
        "\n",
        "    #Update the optima if KG is higher for this point\n",
        "    if(temp_KG > KG_max):\n",
        "      KG_max = temp_KG\n",
        "      KG_x = i[0]\n",
        "\n",
        "  return KG_x\n"
      ],
      "execution_count": null,
      "outputs": []
    },
    {
      "cell_type": "code",
      "metadata": {
        "id": "YsmfYGWmDCIJ"
      },
      "source": [
        "#### Optimize(maximize) the Acquisition Function\n",
        "\n",
        "def opt_acquisition(X, y, model, acquis, P_max):\n",
        "\n",
        "  #Search over the whole range of transmit powers\n",
        "  Xsamples = asarray(arange(-50, P_max, 0.01))\n",
        "  #Ignore and delete all those transmit powers at which samples have already been collected\n",
        "  Xsamples = np.array(list(filter(lambda x: x not in X[:,0], Xsamples)))\n",
        "  Xsamples = Xsamples.reshape(len(Xsamples), 1)\n",
        "  \n",
        "  #Calculate the acquisition function for each sample\n",
        "  #Decide the acquistion function to be used\n",
        "  acquis_to_be_used = acquis #EI or PI or KG\n",
        "\n",
        "  if (acquis_to_be_used == \"EI\"):\n",
        "    scores = EIacquisition(X, Xsamples, model, y) \n",
        "    ix = argmax(scores)\n",
        "    return Xsamples[ix, 0]\n",
        "  elif (acquis_to_be_used == \"PI\"):\n",
        "    scores = PIacquisition(X, Xsamples, model) \n",
        "    ix = argmax(scores)\n",
        "    return Xsamples[ix, 0]\n",
        "  elif (acquis_to_be_used == \"KG\"):\n",
        "    return KGacquisition(X, Xsamples, model, y)"
      ],
      "execution_count": null,
      "outputs": []
    },
    {
      "cell_type": "code",
      "metadata": {
        "id": "l8XmmzLuDYhr"
      },
      "source": [
        "#### Plot Real observations vs Learned Surrogate function\n",
        "\n",
        "def plot(X, y, model, P_max):\n",
        "  #Scatter plot of inputs and real objective function\n",
        "  pyplot.figure()\n",
        "  pyplot.scatter(X, y)\n",
        "  #Line plot of surrogate function across domain\n",
        "  Xsamples = asarray(arange(-50, P_max, 0.01))\n",
        "  Xsamples = Xsamples.reshape(len(Xsamples), 1)\n",
        "  ysamples, _ = surrogate(model, Xsamples)\n",
        "  pyplot.plot(Xsamples, ysamples)\n",
        "  #Show the plot\n",
        "  pyplot.show()"
      ],
      "execution_count": null,
      "outputs": []
    },
    {
      "cell_type": "code",
      "metadata": {
        "id": "ahFh6CNRXsYO"
      },
      "source": [
        "#### This function plots the mean and (+1/1-) of the standard deviation for each iteration\n",
        "\n",
        "def mean_variance(model, P_max):\n",
        "  x = np.atleast_2d(np.linspace(-50, P_max, 1000)).T\n",
        "\n",
        "  #Make the Prediction\n",
        "  y_pred, sigma = model.predict(x, return_std=True)\n",
        "\n",
        "  #Figure initialized\n",
        "  pyplot.figure()\n",
        "  #Plotting\n",
        "  pyplot.fill(np.concatenate([x, x[::-1]]),\n",
        "          np.concatenate([y_pred - 1.0 * sigma,\n",
        "                          (y_pred + 1.0 * sigma)[::-1]]),\n",
        "          alpha=.5, fc='b', ec='None', label='+1/1- uncertainity')\n",
        "  pyplot.plot(x, y_pred, 'r-', label='Prediction')\n",
        "  pyplot.xlabel('$x$')\n",
        "  pyplot.ylabel('$f(x)$')\n",
        "  #Show the plot\n",
        "  pyplot.show()"
      ],
      "execution_count": null,
      "outputs": []
    },
    {
      "cell_type": "code",
      "metadata": {
        "id": "nFo2882lDr1n",
        "colab": {
          "base_uri": "https://localhost:8080/"
        },
        "outputId": "60d99a73-be35-4414-ca74-7e02d22476f4"
      },
      "source": [
        "#### Main Loop\n",
        "\n",
        "#Import the required kernels\n",
        "from sklearn.gaussian_process.kernels import Matern, WhiteKernel, ConstantKernel\n",
        "\n",
        "#initialise maximum power to -30mW\n",
        "P_max = -30\n",
        "#array to store P_max and corresponding optimal SE values\n",
        "x_axis = [-31]\n",
        "y_axis = [0]\n",
        "\n",
        "#iterate over different P_max values\n",
        "for loop in range(10):\n",
        "  np.random.seed()\n",
        "  random.seed()\n",
        "  #Initial X\n",
        "  X = np.array([[P_max-1]])\n",
        "  #Initial y\n",
        "  y = np.array([[objective(P_max-1)]])\n",
        "  \n",
        "  #Reshape into rows and cols\n",
        "  X = X.reshape(len(X), 1)\n",
        "  y = y.reshape(len(y), 1)\n",
        "\n",
        "  #Define the model\n",
        "  kernels =  ConstantKernel(constant_value=200, constant_value_bounds = (1e-20, 1e20)) * Matern(length_scale=0.01, length_scale_bounds=(1e-20,1e20), nu=1.5) + WhiteKernel(noise_level=1, noise_level_bounds=(1e-20, 1e20)) \n",
        "  model = GaussianProcessRegressor(kernel = kernels)\n",
        "  \n",
        "  #Fit the model\n",
        "  model.fit(X, y)\n",
        "  \n",
        "  #Acquisiton function to be used\n",
        "  acquis = \"EI\"\n",
        "  \n",
        "  #Start the optimization procedure(150 samples to be collected)\n",
        "  for i in range(150):\n",
        "    #Select the next point to sample\n",
        "    x = opt_acquisition(X, y, model, acquis,P_max)\n",
        "    #Sample the point\n",
        "    actual = objective(x)\n",
        "    #Summarize the finding\n",
        "    est, _ = surrogate(model, [[x]])\n",
        "    #Add the data to the dataset\n",
        "    X = vstack((X, [[x]]))\n",
        "    y = vstack((y, [[actual]]))\n",
        "    #Update the model\n",
        "    model.fit(X, y)\n",
        "  \n",
        "  #Best result\n",
        "  ix=argmax(y)\n",
        "  \n",
        "  #Optimal SE value\n",
        "  curr, _ = surrogate(model, [X[ix]])\n",
        "  #Add the (P_max, Optimal_SE) points\n",
        "  x_axis.append(P_max)\n",
        "  y_axis.append(curr)\n",
        "  print('P_max = %.3f, Optimal_SE = %.3f' % (P_max, curr))\n",
        "  #Iterate over next P_max\n",
        "  P_max = P_max+10\n"
      ],
      "execution_count": null,
      "outputs": [
        {
          "output_type": "stream",
          "name": "stdout",
          "text": [
            "P_max = -30.000, Optimal_SE = 0.000\n",
            "P_max = -20.000, Optimal_SE = 0.000\n",
            "P_max = -10.000, Optimal_SE = 3.043\n",
            "P_max = 0.000, Optimal_SE = 11.094\n",
            "P_max = 10.000, Optimal_SE = 24.619\n",
            "P_max = 20.000, Optimal_SE = 41.544\n",
            "P_max = 30.000, Optimal_SE = 43.171\n",
            "P_max = 40.000, Optimal_SE = 44.907\n",
            "P_max = 50.000, Optimal_SE = 44.797\n",
            "P_max = 60.000, Optimal_SE = 45.517\n"
          ]
        }
      ]
    },
    {
      "cell_type": "code",
      "metadata": {
        "id": "PuVmUn9B4TVB",
        "colab": {
          "base_uri": "https://localhost:8080/",
          "height": 334
        },
        "outputId": "66c79aee-20af-46ac-d2b4-0ac35ad5e408"
      },
      "source": [
        "#Plot the SE vs Max Transmit power (EPA)\n",
        "pyplot.xlabel(\"Transmit Power\")\n",
        "pyplot.ylabel(\"Spectral Eficiency\")\n",
        "pyplot.plot(x_axis, y_axis)\n",
        "pyplot.show()"
      ],
      "execution_count": null,
      "outputs": [
        {
          "output_type": "stream",
          "name": "stderr",
          "text": [
            "/usr/local/lib/python3.7/dist-packages/numpy/core/_asarray.py:136: VisibleDeprecationWarning: Creating an ndarray from ragged nested sequences (which is a list-or-tuple of lists-or-tuples-or ndarrays with different lengths or shapes) is deprecated. If you meant to do this, you must specify 'dtype=object' when creating the ndarray\n",
            "  return array(a, dtype, copy=False, order=order, subok=True)\n"
          ]
        },
        {
          "output_type": "display_data",
          "data": {
            "image/png": "[encoded data removed]",
            "text/plain": [
              "<Figure size 432x288 with 1 Axes>"
            ]
          },
          "metadata": {
            "needs_background": "light"
          }
        }
      ]
    },
    {
      "cell_type": "code",
      "metadata": {
        "id": "cLw1rgeR8Twm",
        "colab": {
          "base_uri": "https://localhost:8080/"
        },
        "outputId": "682ce626-32bc-4d8e-fdcc-cb5729bed1cd"
      },
      "source": [
        "#Finding Optimal SE values in FPA case\n",
        "\n",
        "#initialise maximum power to -30mW\n",
        "P_max = -30\n",
        "#array to store P_max and corresponding optimal SE values\n",
        "Full_power_x = [-31]\n",
        "Full_power_y = [0]\n",
        "\n",
        "#iterate over different P_max values\n",
        "for loop in range(10):\n",
        "  curr = 0\n",
        "  #Find average optimal SE for given P_max\n",
        "  for j in range(10):\n",
        "   curr = curr + objective(P_max)\n",
        "  \n",
        "  curr = (curr/10.0)\n",
        "  #Add the (P_max, Optimal_SE) points\n",
        "  Full_power_x.append(P_max)\n",
        "  Full_power_y.append(curr)\n",
        "\n",
        "  print('P_max = %.3f, Optimal_SE = %.3f' % (P_max, curr))\n",
        "  P_max = P_max + 10\n"
      ],
      "execution_count": null,
      "outputs": [
        {
          "output_type": "stream",
          "name": "stdout",
          "text": [
            "P_max = -30.000, Optimal_SE = 0.020\n",
            "P_max = -20.000, Optimal_SE = 0.692\n",
            "P_max = -10.000, Optimal_SE = 3.560\n",
            "P_max = 0.000, Optimal_SE = 11.977\n",
            "P_max = 10.000, Optimal_SE = 24.907\n",
            "P_max = 20.000, Optimal_SE = 29.969\n",
            "P_max = 30.000, Optimal_SE = 34.374\n",
            "P_max = 40.000, Optimal_SE = 33.124\n",
            "P_max = 50.000, Optimal_SE = 34.467\n",
            "P_max = 60.000, Optimal_SE = 32.454\n"
          ]
        }
      ]
    },
    {
      "cell_type": "code",
      "metadata": {
        "id": "ewhnA9S79Cz2",
        "colab": {
          "base_uri": "https://localhost:8080/",
          "height": 279
        },
        "outputId": "43827495-187b-4cbc-80c3-029ebb36025e"
      },
      "source": [
        "##Plot the SE vs Max Transmit power (FPA)\n",
        "pyplot.xlabel(\"Transmit Power\")\n",
        "pyplot.ylabel(\"Spectral Eficiency\")\n",
        "pyplot.plot(Full_power_x, Full_power_y)\n",
        "pyplot.show()"
      ],
      "execution_count": null,
      "outputs": [
        {
          "output_type": "display_data",
          "data": {
            "image/png": "[encoded data removed]",
            "text/plain": [
              "<Figure size 432x288 with 1 Axes>"
            ]
          },
          "metadata": {
            "needs_background": "light"
          }
        }
      ]
    },
    {
      "cell_type": "code",
      "metadata": {
        "id": "KsVeoLSU9kHx",
        "colab": {
          "base_uri": "https://localhost:8080/",
          "height": 334
        },
        "outputId": "037edc51-81ef-4656-c4c4-81a6439060df"
      },
      "source": [
        "#EPA vs FPA comparison plot \n",
        "pyplot.xlabel(\"Transmitted Power\")\n",
        "pyplot.ylabel(\"Spectral Efficacy\")\n",
        "pyplot.plot(x_axis, y_axis)\n",
        "pyplot.plot(Full_power_x, Full_power_y)\n",
        "pyplot.legend([\"Equal Power allocation\",\"Full Power allocation\"])\n",
        "pyplot.show()\n"
      ],
      "execution_count": null,
      "outputs": [
        {
          "output_type": "stream",
          "name": "stderr",
          "text": [
            "/usr/local/lib/python3.7/dist-packages/numpy/core/_asarray.py:136: VisibleDeprecationWarning: Creating an ndarray from ragged nested sequences (which is a list-or-tuple of lists-or-tuples-or ndarrays with different lengths or shapes) is deprecated. If you meant to do this, you must specify 'dtype=object' when creating the ndarray\n",
            "  return array(a, dtype, copy=False, order=order, subok=True)\n"
          ]
        },
        {
          "output_type": "display_data",
          "data": {
            "image/png": "[encoded data removed]",
            "text/plain": [
              "<Figure size 432x288 with 1 Axes>"
            ]
          },
          "metadata": {
            "needs_background": "light"
          }
        }
      ]
    }
  ]
}